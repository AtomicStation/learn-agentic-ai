{
 "cells": [
  {
   "cell_type": "code",
   "execution_count": 1,
   "id": "f5b970e0",
   "metadata": {},
   "outputs": [],
   "source": [
    "from typing import TypedDict, Annotated\n",
    "from langgraph.graph import StateGraph, add_messages, START, END\n",
    "from langchain_core.messages import AIMessage, HumanMessage\n",
    "from langgraph.graph import MessagesState\n",
    "from langchain_tavily import TavilySearch\n",
    "from langchain_core.tools import tool\n",
    "from langgraph.checkpoint.memory import MemorySaver\n",
    "from langgraph.prebuilt import ToolNode, tools_condition\n",
    "from langgraph.types import Command, interrupt\n",
    "from langchain.chat_models import init_chat_model\n",
    "\n",
    "llm = init_chat_model(\"ollama:qwen2.5:32b\", temperature=0)"
   ]
  },
  {
   "cell_type": "code",
   "execution_count": 2,
   "id": "149af5a7",
   "metadata": {},
   "outputs": [],
   "source": [
    "class State(TypedDict):\n",
    "    messages: Annotated[list, add_messages]\n",
    "\n",
    "graph_builder = StateGraph(State)\n",
    "\n",
    "tool = TavilySearch(max_results=2)\n",
    "tools = [tool]\n",
    "llm_with_tools = llm.bind_tools(tools)\n",
    "\n",
    "def chatbot(state: State):\n",
    "    return {\"messages\": [llm_with_tools.invoke(state[\"messages\"])]}\n",
    "\n",
    "graph_builder.add_node(\"chatbot\", chatbot)\n",
    "\n",
    "tool_node = ToolNode(tools=[tool])\n",
    "graph_builder.add_node(\"tools\", tool_node)\n",
    "\n",
    "graph_builder.add_conditional_edges(\n",
    "    \"chatbot\",\n",
    "    tools_condition,\n",
    ")\n",
    "graph_builder.add_edge(\"tools\", \"chatbot\")\n",
    "graph_builder.add_edge(START, \"chatbot\")\n",
    "\n",
    "memory = MemorySaver()\n",
    "graph = graph_builder.compile(checkpointer=memory)"
   ]
  },
  {
   "cell_type": "code",
   "execution_count": 4,
   "id": "b05f4a83",
   "metadata": {},
   "outputs": [
    {
     "data": {
      "image/png": "[encoded data removed]",
      "text/plain": [
       "<langgraph.graph.state.CompiledStateGraph object at 0x0000023CE33B8C20>"
      ]
     },
     "execution_count": 4,
     "metadata": {},
     "output_type": "execute_result"
    }
   ],
   "source": [
    "graph"
   ]
  },
  {
   "cell_type": "code",
   "execution_count": 5,
   "id": "4f671505",
   "metadata": {},
   "outputs": [
    {
     "name": "stdout",
     "output_type": "stream",
     "text": [
      "================================\u001b[1m Human Message \u001b[0m=================================\n",
      "\n",
      "I'm learning LangGraph. Could you do some research on it for me?\n",
      "==================================\u001b[1m Ai Message \u001b[0m==================================\n",
      "Tool Calls:\n",
      "  tavily_search (e2124b0f-76a2-40ae-8b1b-c258537b473f)\n",
      " Call ID: e2124b0f-76a2-40ae-8b1b-c258537b473f\n",
      "  Args:\n",
      "    query: LangGraph\n",
      "=================================\u001b[1m Tool Message \u001b[0m=================================\n",
      "Name: tavily_search\n",
      "\n",
      "{\"query\": \"LangGraph\", \"follow_up_questions\": null, \"answer\": null, \"images\": [], \"results\": [{\"url\": \"https://github.com/langchain-ai/langgraph\", \"title\": \"langchain-ai/langgraph: Build resilient language agents as graphs.\", \"content\": \"GitHub - langchain-ai/langgraph: Build resilient language agents as graphs. langchain-ai.github.io/langgraph/ Trusted by companies shaping the future of agents – including Klarna, Replit, Elastic, and more – LangGraph is a low-level orchestration framework for building, managing, and deploying long-running, stateful agents. Or, to learn how to build an agent workflow with a customizable architecture, long-term memory, and other complex task handling, see the LangGraph basics tutorials. LangGraph provides low-level supporting infrastructure for _any_ long-running, stateful workflow or agent. While LangGraph can be used standalone, it also integrates seamlessly with any LangChain product, giving developers a full suite of tools for building agents. *   LangGraph Platform — Deploy and scale agents effortlessly with a purpose-built deployment platform for long running, stateful workflows. langchain-ai.github.io/langgraph/\", \"score\": 0.9055316, \"raw_content\": null}, {\"url\": \"https://www.langchain.com/langgraph\", \"title\": \"LangGraph - LangChain\", \"content\": \"Design agent-driven user experiences with LangGraph Platform's APIs. Quickly deploy and scale your application with infrastructure built for agents. LangGraph sets the foundation for how we can build and scale AI workloads — from conversational agents, complex task automation, to custom LLM-backed experiences that 'just work'. The next chapter in building complex production-ready features with LLMs is agentic, and with LangGraph and LangSmith, LangChain delivers an out-of-the-box solution to iterate quickly, debug immediately, and scale effortlessly.” LangGraph sets the foundation for how we can build and scale AI workloads — from conversational agents, complex task automation, to custom LLM-backed experiences that 'just work'. LangGraph Platform is a service for deploying and scaling LangGraph applications, with an opinionated API for building agent UXs, plus an integrated developer studio.\", \"score\": 0.81595254, \"raw_content\": null}], \"response_time\": 1.34}\n",
      "==================================\u001b[1m Ai Message \u001b[0m==================================\n",
      "\n",
      "LangGraph is a framework designed to build resilient language agents as graphs. It provides low-level infrastructure for managing and deploying long-running, stateful workflows or agents. Here are some key points:\n",
      "\n",
      "- **GitHub Repository**: [langchain-ai/langgraph](https://github.com/langchain-ai/langgraph) - This repository offers tutorials on building agent workflows with customizable architecture, long-term memory, and other complex task handling.\n",
      "  \n",
      "- **LangGraph Platform**: It is a deployment platform that allows developers to deploy and scale agents effortlessly. The platform includes APIs for designing agent-driven user experiences and an integrated developer studio.\n",
      "\n",
      "If you're interested in diving deeper into LangGraph or exploring its capabilities further, these resources should be quite helpful!\n"
     ]
    }
   ],
   "source": [
    "config = {\"configurable\": {\"thread_id\": \"2\"}}\n",
    "events = graph.stream(\n",
    "    {\n",
    "        \"messages\": [\n",
    "            {\n",
    "                \"role\": \"user\",\n",
    "                \"content\": (\n",
    "                    \"I'm learning LangGraph. \"\n",
    "                    \"Could you do some research on it for me?\"\n",
    "                ),\n",
    "            },\n",
    "        ],\n",
    "    },\n",
    "    config,\n",
    "    stream_mode=\"values\",\n",
    ")\n",
    "for event in events:\n",
    "    if \"messages\" in event:\n",
    "        event[\"messages\"][-1].pretty_print()"
   ]
  },
  {
   "cell_type": "code",
   "execution_count": 6,
   "id": "1d9bf568",
   "metadata": {},
   "outputs": [
    {
     "name": "stdout",
     "output_type": "stream",
     "text": [
      "================================\u001b[1m Human Message \u001b[0m=================================\n",
      "\n",
      "Ya that's helpful. Maybe I'll build an autonomous agent with it!\n",
      "==================================\u001b[1m Ai Message \u001b[0m==================================\n",
      "\n",
      "That sounds like a great project! Building an autonomous agent using LangGraph can be both exciting and rewarding. Here are some steps to get you started:\n",
      "\n",
      "1. **Understand the Basics**: Make sure you have a good grasp of what LangGraph offers, including its architecture for building stateful agents and how it integrates with other tools in the LangChain ecosystem.\n",
      "\n",
      "2. **Set Up Your Development Environment**: Follow the setup instructions provided on the [LangGraph GitHub repository](https://github.com/langchain-ai/langgraph) to get your development environment ready.\n",
      "\n",
      "3. **Start Small**: Begin by building a simple agent that performs a specific task or set of tasks. This will help you understand how different components interact and how state is managed over time.\n",
      "\n",
      "4. **Expand Your Agent's Capabilities**: Once you have the basics working, start adding more complex functionalities to your agent. Consider integrating long-term memory and other advanced features provided by LangGraph.\n",
      "\n",
      "5. **Test Thoroughly**: Testing is crucial for autonomous agents. Make sure to test different scenarios and edge cases to ensure your agent behaves as expected under various conditions.\n",
      "\n",
      "6. **Deploy Your Agent**: Use the LangGraph Platform to deploy and scale your agent. This platform provides tools for managing deployments, monitoring performance, and scaling resources as needed.\n",
      "\n",
      "7. **Iterate Based on Feedback**: After deployment, gather feedback from users or test cases and iterate on your design to improve functionality and user experience.\n",
      "\n",
      "If you have any specific questions about the process or need guidance on certain aspects of LangGraph, feel free to ask! Good luck with your project!\n"
     ]
    }
   ],
   "source": [
    "events = graph.stream(\n",
    "    {\n",
    "        \"messages\": [\n",
    "            {\n",
    "                \"role\": \"user\",\n",
    "                \"content\": (\n",
    "                    \"Ya that's helpful. Maybe I'll \"\n",
    "                    \"build an autonomous agent with it!\"\n",
    "                ),\n",
    "            },\n",
    "        ],\n",
    "    },\n",
    "    config,\n",
    "    stream_mode=\"values\",\n",
    ")\n",
    "for event in events:\n",
    "    if \"messages\" in event:\n",
    "        event[\"messages\"][-1].pretty_print()"
   ]
  },
  {
   "cell_type": "code",
   "execution_count": 7,
   "id": "3d5c1627",
   "metadata": {},
   "outputs": [
    {
     "name": "stdout",
     "output_type": "stream",
     "text": [
      "Num Messages:  6 Next:  ()\n",
      "--------------------------------------------------------------------------------\n",
      "Num Messages:  5 Next:  ('chatbot',)\n",
      "--------------------------------------------------------------------------------\n",
      "Num Messages:  4 Next:  ('__start__',)\n",
      "--------------------------------------------------------------------------------\n",
      "Num Messages:  4 Next:  ()\n",
      "--------------------------------------------------------------------------------\n",
      "Num Messages:  3 Next:  ('chatbot',)\n",
      "--------------------------------------------------------------------------------\n",
      "Num Messages:  2 Next:  ('tools',)\n",
      "--------------------------------------------------------------------------------\n",
      "Num Messages:  1 Next:  ('chatbot',)\n",
      "--------------------------------------------------------------------------------\n",
      "Num Messages:  0 Next:  ('__start__',)\n",
      "--------------------------------------------------------------------------------\n"
     ]
    }
   ],
   "source": [
    "to_replay = None\n",
    "for state in graph.get_state_history(config):\n",
    "    print(\"Num Messages: \", len(state.values[\"messages\"]), \"Next: \", state.next)\n",
    "    print(\"-\" * 80)\n",
    "    if len(state.values[\"messages\"]) == 6:\n",
    "        # We are somewhat arbitrarily selecting a specific state based on the number of chat messages in the state.\n",
    "        to_replay = state"
   ]
  },
  {
   "cell_type": "code",
   "execution_count": 10,
   "id": "69af262b",
   "metadata": {},
   "outputs": [
    {
     "name": "stdout",
     "output_type": "stream",
     "text": [
      "StateSnapshot(values={'messages': [HumanMessage(content=\"I'm learning LangGraph. Could you do some research on it for me?\", additional_kwargs={}, response_metadata={}, id='838769e5-1c70-4833-a958-5c991b0ff840'), AIMessage(content='', additional_kwargs={}, response_metadata={'model': 'qwen2.5:32b', 'created_at': '2025-07-16T21:46:56.662692Z', 'done': True, 'done_reason': 'stop', 'total_duration': 26092001100, 'load_duration': 15056346500, 'prompt_eval_count': 988, 'prompt_eval_duration': 2673923800, 'eval_count': 23, 'eval_duration': 8356573100, 'model_name': 'qwen2.5:32b'}, id='run--0915b5c5-df14-4a28-bb5a-bbd444ac1840-0', tool_calls=[{'name': 'tavily_search', 'args': {'query': 'LangGraph'}, 'id': 'e2124b0f-76a2-40ae-8b1b-c258537b473f', 'type': 'tool_call'}], usage_metadata={'input_tokens': 988, 'output_tokens': 23, 'total_tokens': 1011}), ToolMessage(content='{\"query\": \"LangGraph\", \"follow_up_questions\": null, \"answer\": null, \"images\": [], \"results\": [{\"url\": \"https://github.com/langchain-ai/langgraph\", \"title\": \"langchain-ai/langgraph: Build resilient language agents as graphs.\", \"content\": \"GitHub - langchain-ai/langgraph: Build resilient language agents as graphs. langchain-ai.github.io/langgraph/ Trusted by companies shaping the future of agents – including Klarna, Replit, Elastic, and more – LangGraph is a low-level orchestration framework for building, managing, and deploying long-running, stateful agents. Or, to learn how to build an agent workflow with a customizable architecture, long-term memory, and other complex task handling, see the LangGraph basics tutorials. LangGraph provides low-level supporting infrastructure for _any_ long-running, stateful workflow or agent. While LangGraph can be used standalone, it also integrates seamlessly with any LangChain product, giving developers a full suite of tools for building agents. *   LangGraph Platform — Deploy and scale agents effortlessly with a purpose-built deployment platform for long running, stateful workflows. langchain-ai.github.io/langgraph/\", \"score\": 0.9055316, \"raw_content\": null}, {\"url\": \"https://www.langchain.com/langgraph\", \"title\": \"LangGraph - LangChain\", \"content\": \"Design agent-driven user experiences with LangGraph Platform\\'s APIs. Quickly deploy and scale your application with infrastructure built for agents. LangGraph sets the foundation for how we can build and scale AI workloads — from conversational agents, complex task automation, to custom LLM-backed experiences that \\'just work\\'. The next chapter in building complex production-ready features with LLMs is agentic, and with LangGraph and LangSmith, LangChain delivers an out-of-the-box solution to iterate quickly, debug immediately, and scale effortlessly.” LangGraph sets the foundation for how we can build and scale AI workloads — from conversational agents, complex task automation, to custom LLM-backed experiences that \\'just work\\'. LangGraph Platform is a service for deploying and scaling LangGraph applications, with an opinionated API for building agent UXs, plus an integrated developer studio.\", \"score\": 0.81595254, \"raw_content\": null}], \"response_time\": 1.34}', name='tavily_search', id='27643dbd-8740-4478-85d6-83e9e71bfbd8', tool_call_id='e2124b0f-76a2-40ae-8b1b-c258537b473f'), AIMessage(content=\"LangGraph is a framework designed to build resilient language agents as graphs. It provides low-level infrastructure for managing and deploying long-running, stateful workflows or agents. Here are some key points:\\n\\n- **GitHub Repository**: [langchain-ai/langgraph](https://github.com/langchain-ai/langgraph) - This repository offers tutorials on building agent workflows with customizable architecture, long-term memory, and other complex task handling.\\n  \\n- **LangGraph Platform**: It is a deployment platform that allows developers to deploy and scale agents effortlessly. The platform includes APIs for designing agent-driven user experiences and an integrated developer studio.\\n\\nIf you're interested in diving deeper into LangGraph or exploring its capabilities further, these resources should be quite helpful!\", additional_kwargs={}, response_metadata={'model': 'qwen2.5:32b', 'created_at': '2025-07-16T21:47:57.8539911Z', 'done': True, 'done_reason': 'stop', 'total_duration': 59470134100, 'load_duration': 43976600, 'prompt_eval_count': 1524, 'prompt_eval_duration': 2327841100, 'eval_count': 147, 'eval_duration': 57081625900, 'model_name': 'qwen2.5:32b'}, id='run--7fc90b03-7d01-4f22-9339-b1f462ab62a6-0', usage_metadata={'input_tokens': 1524, 'output_tokens': 147, 'total_tokens': 1671}), HumanMessage(content=\"Ya that's helpful. Maybe I'll build an autonomous agent with it!\", additional_kwargs={}, response_metadata={}, id='766c2681-7b48-4da7-ad8d-df315cab0951'), AIMessage(content=\"That sounds like a great project! Building an autonomous agent using LangGraph can be both exciting and rewarding. Here are some steps to get you started:\\n\\n1. **Understand the Basics**: Make sure you have a good grasp of what LangGraph offers, including its architecture for building stateful agents and how it integrates with other tools in the LangChain ecosystem.\\n\\n2. **Set Up Your Development Environment**: Follow the setup instructions provided on the [LangGraph GitHub repository](https://github.com/langchain-ai/langgraph) to get your development environment ready.\\n\\n3. **Start Small**: Begin by building a simple agent that performs a specific task or set of tasks. This will help you understand how different components interact and how state is managed over time.\\n\\n4. **Expand Your Agent's Capabilities**: Once you have the basics working, start adding more complex functionalities to your agent. Consider integrating long-term memory and other advanced features provided by LangGraph.\\n\\n5. **Test Thoroughly**: Testing is crucial for autonomous agents. Make sure to test different scenarios and edge cases to ensure your agent behaves as expected under various conditions.\\n\\n6. **Deploy Your Agent**: Use the LangGraph Platform to deploy and scale your agent. This platform provides tools for managing deployments, monitoring performance, and scaling resources as needed.\\n\\n7. **Iterate Based on Feedback**: After deployment, gather feedback from users or test cases and iterate on your design to improve functionality and user experience.\\n\\nIf you have any specific questions about the process or need guidance on certain aspects of LangGraph, feel free to ask! Good luck with your project!\", additional_kwargs={}, response_metadata={'model': 'qwen2.5:32b', 'created_at': '2025-07-16T21:52:01.7156385Z', 'done': True, 'done_reason': 'stop', 'total_duration': 132714750700, 'load_duration': 28520700, 'prompt_eval_count': 1695, 'prompt_eval_duration': 2689528800, 'eval_count': 324, 'eval_duration': 129971939900, 'model_name': 'qwen2.5:32b'}, id='run--0815da3b-ab7b-443d-be9a-c8ad2c599830-0', usage_metadata={'input_tokens': 1695, 'output_tokens': 324, 'total_tokens': 2019})]}, next=(), config={'configurable': {'thread_id': '2', 'checkpoint_ns': '', 'checkpoint_id': '1f0628f1-ac0c-6415-8006-884c58a86cd6'}}, metadata={'source': 'loop', 'step': 6, 'parents': {}, 'thread_id': '2'}, created_at='2025-07-16T21:52:01.717147+00:00', parent_config={'configurable': {'thread_id': '2', 'checkpoint_ns': '', 'checkpoint_id': '1f0628ec-ba4e-68f7-8005-366eeaab14d1'}}, tasks=(), interrupts=())\n",
      "StateSnapshot(values={'messages': [HumanMessage(content=\"I'm learning LangGraph. Could you do some research on it for me?\", additional_kwargs={}, response_metadata={}, id='838769e5-1c70-4833-a958-5c991b0ff840'), AIMessage(content='', additional_kwargs={}, response_metadata={'model': 'qwen2.5:32b', 'created_at': '2025-07-16T21:46:56.662692Z', 'done': True, 'done_reason': 'stop', 'total_duration': 26092001100, 'load_duration': 15056346500, 'prompt_eval_count': 988, 'prompt_eval_duration': 2673923800, 'eval_count': 23, 'eval_duration': 8356573100, 'model_name': 'qwen2.5:32b'}, id='run--0915b5c5-df14-4a28-bb5a-bbd444ac1840-0', tool_calls=[{'name': 'tavily_search', 'args': {'query': 'LangGraph'}, 'id': 'e2124b0f-76a2-40ae-8b1b-c258537b473f', 'type': 'tool_call'}], usage_metadata={'input_tokens': 988, 'output_tokens': 23, 'total_tokens': 1011}), ToolMessage(content='{\"query\": \"LangGraph\", \"follow_up_questions\": null, \"answer\": null, \"images\": [], \"results\": [{\"url\": \"https://github.com/langchain-ai/langgraph\", \"title\": \"langchain-ai/langgraph: Build resilient language agents as graphs.\", \"content\": \"GitHub - langchain-ai/langgraph: Build resilient language agents as graphs. langchain-ai.github.io/langgraph/ Trusted by companies shaping the future of agents – including Klarna, Replit, Elastic, and more – LangGraph is a low-level orchestration framework for building, managing, and deploying long-running, stateful agents. Or, to learn how to build an agent workflow with a customizable architecture, long-term memory, and other complex task handling, see the LangGraph basics tutorials. LangGraph provides low-level supporting infrastructure for _any_ long-running, stateful workflow or agent. While LangGraph can be used standalone, it also integrates seamlessly with any LangChain product, giving developers a full suite of tools for building agents. *   LangGraph Platform — Deploy and scale agents effortlessly with a purpose-built deployment platform for long running, stateful workflows. langchain-ai.github.io/langgraph/\", \"score\": 0.9055316, \"raw_content\": null}, {\"url\": \"https://www.langchain.com/langgraph\", \"title\": \"LangGraph - LangChain\", \"content\": \"Design agent-driven user experiences with LangGraph Platform\\'s APIs. Quickly deploy and scale your application with infrastructure built for agents. LangGraph sets the foundation for how we can build and scale AI workloads — from conversational agents, complex task automation, to custom LLM-backed experiences that \\'just work\\'. The next chapter in building complex production-ready features with LLMs is agentic, and with LangGraph and LangSmith, LangChain delivers an out-of-the-box solution to iterate quickly, debug immediately, and scale effortlessly.” LangGraph sets the foundation for how we can build and scale AI workloads — from conversational agents, complex task automation, to custom LLM-backed experiences that \\'just work\\'. LangGraph Platform is a service for deploying and scaling LangGraph applications, with an opinionated API for building agent UXs, plus an integrated developer studio.\", \"score\": 0.81595254, \"raw_content\": null}], \"response_time\": 1.34}', name='tavily_search', id='27643dbd-8740-4478-85d6-83e9e71bfbd8', tool_call_id='e2124b0f-76a2-40ae-8b1b-c258537b473f'), AIMessage(content=\"LangGraph is a framework designed to build resilient language agents as graphs. It provides low-level infrastructure for managing and deploying long-running, stateful workflows or agents. Here are some key points:\\n\\n- **GitHub Repository**: [langchain-ai/langgraph](https://github.com/langchain-ai/langgraph) - This repository offers tutorials on building agent workflows with customizable architecture, long-term memory, and other complex task handling.\\n  \\n- **LangGraph Platform**: It is a deployment platform that allows developers to deploy and scale agents effortlessly. The platform includes APIs for designing agent-driven user experiences and an integrated developer studio.\\n\\nIf you're interested in diving deeper into LangGraph or exploring its capabilities further, these resources should be quite helpful!\", additional_kwargs={}, response_metadata={'model': 'qwen2.5:32b', 'created_at': '2025-07-16T21:47:57.8539911Z', 'done': True, 'done_reason': 'stop', 'total_duration': 59470134100, 'load_duration': 43976600, 'prompt_eval_count': 1524, 'prompt_eval_duration': 2327841100, 'eval_count': 147, 'eval_duration': 57081625900, 'model_name': 'qwen2.5:32b'}, id='run--7fc90b03-7d01-4f22-9339-b1f462ab62a6-0', usage_metadata={'input_tokens': 1524, 'output_tokens': 147, 'total_tokens': 1671}), HumanMessage(content=\"Ya that's helpful. Maybe I'll build an autonomous agent with it!\", additional_kwargs={}, response_metadata={}, id='766c2681-7b48-4da7-ad8d-df315cab0951')]}, next=('chatbot',), config={'configurable': {'thread_id': '2', 'checkpoint_ns': '', 'checkpoint_id': '1f0628ec-ba4e-68f7-8005-366eeaab14d1'}}, metadata={'source': 'loop', 'step': 5, 'parents': {}, 'thread_id': '2'}, created_at='2025-07-16T21:49:48.994584+00:00', parent_config={'configurable': {'thread_id': '2', 'checkpoint_ns': '', 'checkpoint_id': '1f0628ec-ba4c-61e8-8004-edfe93a2c0a9'}}, tasks=(PregelTask(id='60696a67-c7c9-66cb-50ac-9212b291fef7', name='chatbot', path=('__pregel_pull', 'chatbot'), error=None, interrupts=(), state=None, result={'messages': [AIMessage(content=\"That sounds like a great project! Building an autonomous agent using LangGraph can be both exciting and rewarding. Here are some steps to get you started:\\n\\n1. **Understand the Basics**: Make sure you have a good grasp of what LangGraph offers, including its architecture for building stateful agents and how it integrates with other tools in the LangChain ecosystem.\\n\\n2. **Set Up Your Development Environment**: Follow the setup instructions provided on the [LangGraph GitHub repository](https://github.com/langchain-ai/langgraph) to get your development environment ready.\\n\\n3. **Start Small**: Begin by building a simple agent that performs a specific task or set of tasks. This will help you understand how different components interact and how state is managed over time.\\n\\n4. **Expand Your Agent's Capabilities**: Once you have the basics working, start adding more complex functionalities to your agent. Consider integrating long-term memory and other advanced features provided by LangGraph.\\n\\n5. **Test Thoroughly**: Testing is crucial for autonomous agents. Make sure to test different scenarios and edge cases to ensure your agent behaves as expected under various conditions.\\n\\n6. **Deploy Your Agent**: Use the LangGraph Platform to deploy and scale your agent. This platform provides tools for managing deployments, monitoring performance, and scaling resources as needed.\\n\\n7. **Iterate Based on Feedback**: After deployment, gather feedback from users or test cases and iterate on your design to improve functionality and user experience.\\n\\nIf you have any specific questions about the process or need guidance on certain aspects of LangGraph, feel free to ask! Good luck with your project!\", additional_kwargs={}, response_metadata={'model': 'qwen2.5:32b', 'created_at': '2025-07-16T21:52:01.7156385Z', 'done': True, 'done_reason': 'stop', 'total_duration': 132714750700, 'load_duration': 28520700, 'prompt_eval_count': 1695, 'prompt_eval_duration': 2689528800, 'eval_count': 324, 'eval_duration': 129971939900, 'model_name': 'qwen2.5:32b'}, id='run--0815da3b-ab7b-443d-be9a-c8ad2c599830-0', usage_metadata={'input_tokens': 1695, 'output_tokens': 324, 'total_tokens': 2019})]}),), interrupts=())\n",
      "StateSnapshot(values={'messages': [HumanMessage(content=\"I'm learning LangGraph. Could you do some research on it for me?\", additional_kwargs={}, response_metadata={}, id='838769e5-1c70-4833-a958-5c991b0ff840'), AIMessage(content='', additional_kwargs={}, response_metadata={'model': 'qwen2.5:32b', 'created_at': '2025-07-16T21:46:56.662692Z', 'done': True, 'done_reason': 'stop', 'total_duration': 26092001100, 'load_duration': 15056346500, 'prompt_eval_count': 988, 'prompt_eval_duration': 2673923800, 'eval_count': 23, 'eval_duration': 8356573100, 'model_name': 'qwen2.5:32b'}, id='run--0915b5c5-df14-4a28-bb5a-bbd444ac1840-0', tool_calls=[{'name': 'tavily_search', 'args': {'query': 'LangGraph'}, 'id': 'e2124b0f-76a2-40ae-8b1b-c258537b473f', 'type': 'tool_call'}], usage_metadata={'input_tokens': 988, 'output_tokens': 23, 'total_tokens': 1011}), ToolMessage(content='{\"query\": \"LangGraph\", \"follow_up_questions\": null, \"answer\": null, \"images\": [], \"results\": [{\"url\": \"https://github.com/langchain-ai/langgraph\", \"title\": \"langchain-ai/langgraph: Build resilient language agents as graphs.\", \"content\": \"GitHub - langchain-ai/langgraph: Build resilient language agents as graphs. langchain-ai.github.io/langgraph/ Trusted by companies shaping the future of agents – including Klarna, Replit, Elastic, and more – LangGraph is a low-level orchestration framework for building, managing, and deploying long-running, stateful agents. Or, to learn how to build an agent workflow with a customizable architecture, long-term memory, and other complex task handling, see the LangGraph basics tutorials. LangGraph provides low-level supporting infrastructure for _any_ long-running, stateful workflow or agent. While LangGraph can be used standalone, it also integrates seamlessly with any LangChain product, giving developers a full suite of tools for building agents. *   LangGraph Platform — Deploy and scale agents effortlessly with a purpose-built deployment platform for long running, stateful workflows. langchain-ai.github.io/langgraph/\", \"score\": 0.9055316, \"raw_content\": null}, {\"url\": \"https://www.langchain.com/langgraph\", \"title\": \"LangGraph - LangChain\", \"content\": \"Design agent-driven user experiences with LangGraph Platform\\'s APIs. Quickly deploy and scale your application with infrastructure built for agents. LangGraph sets the foundation for how we can build and scale AI workloads — from conversational agents, complex task automation, to custom LLM-backed experiences that \\'just work\\'. The next chapter in building complex production-ready features with LLMs is agentic, and with LangGraph and LangSmith, LangChain delivers an out-of-the-box solution to iterate quickly, debug immediately, and scale effortlessly.” LangGraph sets the foundation for how we can build and scale AI workloads — from conversational agents, complex task automation, to custom LLM-backed experiences that \\'just work\\'. LangGraph Platform is a service for deploying and scaling LangGraph applications, with an opinionated API for building agent UXs, plus an integrated developer studio.\", \"score\": 0.81595254, \"raw_content\": null}], \"response_time\": 1.34}', name='tavily_search', id='27643dbd-8740-4478-85d6-83e9e71bfbd8', tool_call_id='e2124b0f-76a2-40ae-8b1b-c258537b473f'), AIMessage(content=\"LangGraph is a framework designed to build resilient language agents as graphs. It provides low-level infrastructure for managing and deploying long-running, stateful workflows or agents. Here are some key points:\\n\\n- **GitHub Repository**: [langchain-ai/langgraph](https://github.com/langchain-ai/langgraph) - This repository offers tutorials on building agent workflows with customizable architecture, long-term memory, and other complex task handling.\\n  \\n- **LangGraph Platform**: It is a deployment platform that allows developers to deploy and scale agents effortlessly. The platform includes APIs for designing agent-driven user experiences and an integrated developer studio.\\n\\nIf you're interested in diving deeper into LangGraph or exploring its capabilities further, these resources should be quite helpful!\", additional_kwargs={}, response_metadata={'model': 'qwen2.5:32b', 'created_at': '2025-07-16T21:47:57.8539911Z', 'done': True, 'done_reason': 'stop', 'total_duration': 59470134100, 'load_duration': 43976600, 'prompt_eval_count': 1524, 'prompt_eval_duration': 2327841100, 'eval_count': 147, 'eval_duration': 57081625900, 'model_name': 'qwen2.5:32b'}, id='run--7fc90b03-7d01-4f22-9339-b1f462ab62a6-0', usage_metadata={'input_tokens': 1524, 'output_tokens': 147, 'total_tokens': 1671})]}, next=('__start__',), config={'configurable': {'thread_id': '2', 'checkpoint_ns': '', 'checkpoint_id': '1f0628ec-ba4c-61e8-8004-edfe93a2c0a9'}}, metadata={'source': 'input', 'step': 4, 'parents': {}, 'thread_id': '2'}, created_at='2025-07-16T21:49:48.993584+00:00', parent_config={'configurable': {'thread_id': '2', 'checkpoint_ns': '', 'checkpoint_id': '1f0628e8-9668-667c-8003-6a9779c6517a'}}, tasks=(PregelTask(id='52dd74e3-c665-2c9e-3c9c-96be42e69043', name='__start__', path=('__pregel_pull', '__start__'), error=None, interrupts=(), state=None, result={'messages': [{'role': 'user', 'content': \"Ya that's helpful. Maybe I'll build an autonomous agent with it!\"}]}),), interrupts=())\n",
      "StateSnapshot(values={'messages': [HumanMessage(content=\"I'm learning LangGraph. Could you do some research on it for me?\", additional_kwargs={}, response_metadata={}, id='838769e5-1c70-4833-a958-5c991b0ff840'), AIMessage(content='', additional_kwargs={}, response_metadata={'model': 'qwen2.5:32b', 'created_at': '2025-07-16T21:46:56.662692Z', 'done': True, 'done_reason': 'stop', 'total_duration': 26092001100, 'load_duration': 15056346500, 'prompt_eval_count': 988, 'prompt_eval_duration': 2673923800, 'eval_count': 23, 'eval_duration': 8356573100, 'model_name': 'qwen2.5:32b'}, id='run--0915b5c5-df14-4a28-bb5a-bbd444ac1840-0', tool_calls=[{'name': 'tavily_search', 'args': {'query': 'LangGraph'}, 'id': 'e2124b0f-76a2-40ae-8b1b-c258537b473f', 'type': 'tool_call'}], usage_metadata={'input_tokens': 988, 'output_tokens': 23, 'total_tokens': 1011}), ToolMessage(content='{\"query\": \"LangGraph\", \"follow_up_questions\": null, \"answer\": null, \"images\": [], \"results\": [{\"url\": \"https://github.com/langchain-ai/langgraph\", \"title\": \"langchain-ai/langgraph: Build resilient language agents as graphs.\", \"content\": \"GitHub - langchain-ai/langgraph: Build resilient language agents as graphs. langchain-ai.github.io/langgraph/ Trusted by companies shaping the future of agents – including Klarna, Replit, Elastic, and more – LangGraph is a low-level orchestration framework for building, managing, and deploying long-running, stateful agents. Or, to learn how to build an agent workflow with a customizable architecture, long-term memory, and other complex task handling, see the LangGraph basics tutorials. LangGraph provides low-level supporting infrastructure for _any_ long-running, stateful workflow or agent. While LangGraph can be used standalone, it also integrates seamlessly with any LangChain product, giving developers a full suite of tools for building agents. *   LangGraph Platform — Deploy and scale agents effortlessly with a purpose-built deployment platform for long running, stateful workflows. langchain-ai.github.io/langgraph/\", \"score\": 0.9055316, \"raw_content\": null}, {\"url\": \"https://www.langchain.com/langgraph\", \"title\": \"LangGraph - LangChain\", \"content\": \"Design agent-driven user experiences with LangGraph Platform\\'s APIs. Quickly deploy and scale your application with infrastructure built for agents. LangGraph sets the foundation for how we can build and scale AI workloads — from conversational agents, complex task automation, to custom LLM-backed experiences that \\'just work\\'. The next chapter in building complex production-ready features with LLMs is agentic, and with LangGraph and LangSmith, LangChain delivers an out-of-the-box solution to iterate quickly, debug immediately, and scale effortlessly.” LangGraph sets the foundation for how we can build and scale AI workloads — from conversational agents, complex task automation, to custom LLM-backed experiences that \\'just work\\'. LangGraph Platform is a service for deploying and scaling LangGraph applications, with an opinionated API for building agent UXs, plus an integrated developer studio.\", \"score\": 0.81595254, \"raw_content\": null}], \"response_time\": 1.34}', name='tavily_search', id='27643dbd-8740-4478-85d6-83e9e71bfbd8', tool_call_id='e2124b0f-76a2-40ae-8b1b-c258537b473f'), AIMessage(content=\"LangGraph is a framework designed to build resilient language agents as graphs. It provides low-level infrastructure for managing and deploying long-running, stateful workflows or agents. Here are some key points:\\n\\n- **GitHub Repository**: [langchain-ai/langgraph](https://github.com/langchain-ai/langgraph) - This repository offers tutorials on building agent workflows with customizable architecture, long-term memory, and other complex task handling.\\n  \\n- **LangGraph Platform**: It is a deployment platform that allows developers to deploy and scale agents effortlessly. The platform includes APIs for designing agent-driven user experiences and an integrated developer studio.\\n\\nIf you're interested in diving deeper into LangGraph or exploring its capabilities further, these resources should be quite helpful!\", additional_kwargs={}, response_metadata={'model': 'qwen2.5:32b', 'created_at': '2025-07-16T21:47:57.8539911Z', 'done': True, 'done_reason': 'stop', 'total_duration': 59470134100, 'load_duration': 43976600, 'prompt_eval_count': 1524, 'prompt_eval_duration': 2327841100, 'eval_count': 147, 'eval_duration': 57081625900, 'model_name': 'qwen2.5:32b'}, id='run--7fc90b03-7d01-4f22-9339-b1f462ab62a6-0', usage_metadata={'input_tokens': 1524, 'output_tokens': 147, 'total_tokens': 1671})]}, next=(), config={'configurable': {'thread_id': '2', 'checkpoint_ns': '', 'checkpoint_id': '1f0628e8-9668-667c-8003-6a9779c6517a'}}, metadata={'source': 'loop', 'step': 3, 'parents': {}, 'thread_id': '2'}, created_at='2025-07-16T21:47:57.856114+00:00', parent_config={'configurable': {'thread_id': '2', 'checkpoint_ns': '', 'checkpoint_id': '1f0628e6-5f31-66ff-8002-9bd5f66e5472'}}, tasks=(), interrupts=())\n",
      "StateSnapshot(values={'messages': [HumanMessage(content=\"I'm learning LangGraph. Could you do some research on it for me?\", additional_kwargs={}, response_metadata={}, id='838769e5-1c70-4833-a958-5c991b0ff840'), AIMessage(content='', additional_kwargs={}, response_metadata={'model': 'qwen2.5:32b', 'created_at': '2025-07-16T21:46:56.662692Z', 'done': True, 'done_reason': 'stop', 'total_duration': 26092001100, 'load_duration': 15056346500, 'prompt_eval_count': 988, 'prompt_eval_duration': 2673923800, 'eval_count': 23, 'eval_duration': 8356573100, 'model_name': 'qwen2.5:32b'}, id='run--0915b5c5-df14-4a28-bb5a-bbd444ac1840-0', tool_calls=[{'name': 'tavily_search', 'args': {'query': 'LangGraph'}, 'id': 'e2124b0f-76a2-40ae-8b1b-c258537b473f', 'type': 'tool_call'}], usage_metadata={'input_tokens': 988, 'output_tokens': 23, 'total_tokens': 1011}), ToolMessage(content='{\"query\": \"LangGraph\", \"follow_up_questions\": null, \"answer\": null, \"images\": [], \"results\": [{\"url\": \"https://github.com/langchain-ai/langgraph\", \"title\": \"langchain-ai/langgraph: Build resilient language agents as graphs.\", \"content\": \"GitHub - langchain-ai/langgraph: Build resilient language agents as graphs. langchain-ai.github.io/langgraph/ Trusted by companies shaping the future of agents – including Klarna, Replit, Elastic, and more – LangGraph is a low-level orchestration framework for building, managing, and deploying long-running, stateful agents. Or, to learn how to build an agent workflow with a customizable architecture, long-term memory, and other complex task handling, see the LangGraph basics tutorials. LangGraph provides low-level supporting infrastructure for _any_ long-running, stateful workflow or agent. While LangGraph can be used standalone, it also integrates seamlessly with any LangChain product, giving developers a full suite of tools for building agents. *   LangGraph Platform — Deploy and scale agents effortlessly with a purpose-built deployment platform for long running, stateful workflows. langchain-ai.github.io/langgraph/\", \"score\": 0.9055316, \"raw_content\": null}, {\"url\": \"https://www.langchain.com/langgraph\", \"title\": \"LangGraph - LangChain\", \"content\": \"Design agent-driven user experiences with LangGraph Platform\\'s APIs. Quickly deploy and scale your application with infrastructure built for agents. LangGraph sets the foundation for how we can build and scale AI workloads — from conversational agents, complex task automation, to custom LLM-backed experiences that \\'just work\\'. The next chapter in building complex production-ready features with LLMs is agentic, and with LangGraph and LangSmith, LangChain delivers an out-of-the-box solution to iterate quickly, debug immediately, and scale effortlessly.” LangGraph sets the foundation for how we can build and scale AI workloads — from conversational agents, complex task automation, to custom LLM-backed experiences that \\'just work\\'. LangGraph Platform is a service for deploying and scaling LangGraph applications, with an opinionated API for building agent UXs, plus an integrated developer studio.\", \"score\": 0.81595254, \"raw_content\": null}], \"response_time\": 1.34}', name='tavily_search', id='27643dbd-8740-4478-85d6-83e9e71bfbd8', tool_call_id='e2124b0f-76a2-40ae-8b1b-c258537b473f')]}, next=('chatbot',), config={'configurable': {'thread_id': '2', 'checkpoint_ns': '', 'checkpoint_id': '1f0628e6-5f31-66ff-8002-9bd5f66e5472'}}, metadata={'source': 'loop', 'step': 2, 'parents': {}, 'thread_id': '2'}, created_at='2025-07-16T21:46:58.379340+00:00', parent_config={'configurable': {'thread_id': '2', 'checkpoint_ns': '', 'checkpoint_id': '1f0628e6-4ed7-65d5-8001-165043cad4b9'}}, tasks=(PregelTask(id='39e12114-31e4-b9aa-a482-afea5c804556', name='chatbot', path=('__pregel_pull', 'chatbot'), error=None, interrupts=(), state=None, result={'messages': [AIMessage(content=\"LangGraph is a framework designed to build resilient language agents as graphs. It provides low-level infrastructure for managing and deploying long-running, stateful workflows or agents. Here are some key points:\\n\\n- **GitHub Repository**: [langchain-ai/langgraph](https://github.com/langchain-ai/langgraph) - This repository offers tutorials on building agent workflows with customizable architecture, long-term memory, and other complex task handling.\\n  \\n- **LangGraph Platform**: It is a deployment platform that allows developers to deploy and scale agents effortlessly. The platform includes APIs for designing agent-driven user experiences and an integrated developer studio.\\n\\nIf you're interested in diving deeper into LangGraph or exploring its capabilities further, these resources should be quite helpful!\", additional_kwargs={}, response_metadata={'model': 'qwen2.5:32b', 'created_at': '2025-07-16T21:47:57.8539911Z', 'done': True, 'done_reason': 'stop', 'total_duration': 59470134100, 'load_duration': 43976600, 'prompt_eval_count': 1524, 'prompt_eval_duration': 2327841100, 'eval_count': 147, 'eval_duration': 57081625900, 'model_name': 'qwen2.5:32b'}, id='run--7fc90b03-7d01-4f22-9339-b1f462ab62a6-0', usage_metadata={'input_tokens': 1524, 'output_tokens': 147, 'total_tokens': 1671})]}),), interrupts=())\n",
      "StateSnapshot(values={'messages': [HumanMessage(content=\"I'm learning LangGraph. Could you do some research on it for me?\", additional_kwargs={}, response_metadata={}, id='838769e5-1c70-4833-a958-5c991b0ff840'), AIMessage(content='', additional_kwargs={}, response_metadata={'model': 'qwen2.5:32b', 'created_at': '2025-07-16T21:46:56.662692Z', 'done': True, 'done_reason': 'stop', 'total_duration': 26092001100, 'load_duration': 15056346500, 'prompt_eval_count': 988, 'prompt_eval_duration': 2673923800, 'eval_count': 23, 'eval_duration': 8356573100, 'model_name': 'qwen2.5:32b'}, id='run--0915b5c5-df14-4a28-bb5a-bbd444ac1840-0', tool_calls=[{'name': 'tavily_search', 'args': {'query': 'LangGraph'}, 'id': 'e2124b0f-76a2-40ae-8b1b-c258537b473f', 'type': 'tool_call'}], usage_metadata={'input_tokens': 988, 'output_tokens': 23, 'total_tokens': 1011})]}, next=('tools',), config={'configurable': {'thread_id': '2', 'checkpoint_ns': '', 'checkpoint_id': '1f0628e6-4ed7-65d5-8001-165043cad4b9'}}, metadata={'source': 'loop', 'step': 1, 'parents': {}, 'thread_id': '2'}, created_at='2025-07-16T21:46:56.664725+00:00', parent_config={'configurable': {'thread_id': '2', 'checkpoint_ns': '', 'checkpoint_id': '1f0628e5-554f-610e-8000-2151c97b54de'}}, tasks=(PregelTask(id='b369f4ee-e5f5-ff1b-96ba-ab0d09706c96', name='tools', path=('__pregel_pull', 'tools'), error=None, interrupts=(), state=None, result={'messages': [ToolMessage(content='{\"query\": \"LangGraph\", \"follow_up_questions\": null, \"answer\": null, \"images\": [], \"results\": [{\"url\": \"https://github.com/langchain-ai/langgraph\", \"title\": \"langchain-ai/langgraph: Build resilient language agents as graphs.\", \"content\": \"GitHub - langchain-ai/langgraph: Build resilient language agents as graphs. langchain-ai.github.io/langgraph/ Trusted by companies shaping the future of agents – including Klarna, Replit, Elastic, and more – LangGraph is a low-level orchestration framework for building, managing, and deploying long-running, stateful agents. Or, to learn how to build an agent workflow with a customizable architecture, long-term memory, and other complex task handling, see the LangGraph basics tutorials. LangGraph provides low-level supporting infrastructure for _any_ long-running, stateful workflow or agent. While LangGraph can be used standalone, it also integrates seamlessly with any LangChain product, giving developers a full suite of tools for building agents. *   LangGraph Platform — Deploy and scale agents effortlessly with a purpose-built deployment platform for long running, stateful workflows. langchain-ai.github.io/langgraph/\", \"score\": 0.9055316, \"raw_content\": null}, {\"url\": \"https://www.langchain.com/langgraph\", \"title\": \"LangGraph - LangChain\", \"content\": \"Design agent-driven user experiences with LangGraph Platform\\'s APIs. Quickly deploy and scale your application with infrastructure built for agents. LangGraph sets the foundation for how we can build and scale AI workloads — from conversational agents, complex task automation, to custom LLM-backed experiences that \\'just work\\'. The next chapter in building complex production-ready features with LLMs is agentic, and with LangGraph and LangSmith, LangChain delivers an out-of-the-box solution to iterate quickly, debug immediately, and scale effortlessly.” LangGraph sets the foundation for how we can build and scale AI workloads — from conversational agents, complex task automation, to custom LLM-backed experiences that \\'just work\\'. LangGraph Platform is a service for deploying and scaling LangGraph applications, with an opinionated API for building agent UXs, plus an integrated developer studio.\", \"score\": 0.81595254, \"raw_content\": null}], \"response_time\": 1.34}', name='tavily_search', id='27643dbd-8740-4478-85d6-83e9e71bfbd8', tool_call_id='e2124b0f-76a2-40ae-8b1b-c258537b473f')]}),), interrupts=())\n",
      "StateSnapshot(values={'messages': [HumanMessage(content=\"I'm learning LangGraph. Could you do some research on it for me?\", additional_kwargs={}, response_metadata={}, id='838769e5-1c70-4833-a958-5c991b0ff840')]}, next=('chatbot',), config={'configurable': {'thread_id': '2', 'checkpoint_ns': '', 'checkpoint_id': '1f0628e5-554f-610e-8000-2151c97b54de'}}, metadata={'source': 'loop', 'step': 0, 'parents': {}, 'thread_id': '2'}, created_at='2025-07-16T21:46:30.499355+00:00', parent_config={'configurable': {'thread_id': '2', 'checkpoint_ns': '', 'checkpoint_id': '1f0628e5-554c-6804-bfff-475d22bc907d'}}, tasks=(PregelTask(id='dfa43fee-18eb-aebd-78da-d5de135591a8', name='chatbot', path=('__pregel_pull', 'chatbot'), error=None, interrupts=(), state=None, result={'messages': [AIMessage(content='', additional_kwargs={}, response_metadata={'model': 'qwen2.5:32b', 'created_at': '2025-07-16T21:46:56.662692Z', 'done': True, 'done_reason': 'stop', 'total_duration': 26092001100, 'load_duration': 15056346500, 'prompt_eval_count': 988, 'prompt_eval_duration': 2673923800, 'eval_count': 23, 'eval_duration': 8356573100, 'model_name': 'qwen2.5:32b'}, id='run--0915b5c5-df14-4a28-bb5a-bbd444ac1840-0', tool_calls=[{'name': 'tavily_search', 'args': {'query': 'LangGraph'}, 'id': 'e2124b0f-76a2-40ae-8b1b-c258537b473f', 'type': 'tool_call'}], usage_metadata={'input_tokens': 988, 'output_tokens': 23, 'total_tokens': 1011})]}),), interrupts=())\n",
      "StateSnapshot(values={'messages': []}, next=('__start__',), config={'configurable': {'thread_id': '2', 'checkpoint_ns': '', 'checkpoint_id': '1f0628e5-554c-6804-bfff-475d22bc907d'}}, metadata={'source': 'input', 'step': -1, 'parents': {}, 'thread_id': '2'}, created_at='2025-07-16T21:46:30.498304+00:00', parent_config=None, tasks=(PregelTask(id='5b6e7bf9-bfef-5d81-b561-4f2a6e32f7b3', name='__start__', path=('__pregel_pull', '__start__'), error=None, interrupts=(), state=None, result={'messages': [{'role': 'user', 'content': \"I'm learning LangGraph. Could you do some research on it for me?\"}]}),), interrupts=())\n"
     ]
    }
   ],
   "source": [
    "for state in graph.get_state_history(config):\n",
    "    print(state)"
   ]
  },
  {
   "cell_type": "code",
   "execution_count": 21,
   "id": "f6b50c64",
   "metadata": {},
   "outputs": [
    {
     "data": {
      "text/plain": [
       "StateSnapshot(values={'messages': [HumanMessage(content=\"I'm learning LangGraph. Could you do some research on it for me?\", additional_kwargs={}, response_metadata={}, id='838769e5-1c70-4833-a958-5c991b0ff840')]}, next=('chatbot',), config={'configurable': {'thread_id': '2', 'checkpoint_ns': '', 'checkpoint_id': '1f0628e5-554f-610e-8000-2151c97b54de'}}, metadata={'source': 'loop', 'step': 0, 'parents': {}, 'thread_id': '2'}, created_at='2025-07-16T21:46:30.499355+00:00', parent_config={'configurable': {'thread_id': '2', 'checkpoint_ns': '', 'checkpoint_id': '1f0628e5-554c-6804-bfff-475d22bc907d'}}, tasks=(PregelTask(id='dfa43fee-18eb-aebd-78da-d5de135591a8', name='chatbot', path=('__pregel_pull', 'chatbot'), error=None, interrupts=(), state=None, result={'messages': [AIMessage(content='', additional_kwargs={}, response_metadata={'model': 'qwen2.5:32b', 'created_at': '2025-07-16T21:46:56.662692Z', 'done': True, 'done_reason': 'stop', 'total_duration': 26092001100, 'load_duration': 15056346500, 'prompt_eval_count': 988, 'prompt_eval_duration': 2673923800, 'eval_count': 23, 'eval_duration': 8356573100, 'model_name': 'qwen2.5:32b'}, id='run--0915b5c5-df14-4a28-bb5a-bbd444ac1840-0', tool_calls=[{'name': 'tavily_search', 'args': {'query': 'LangGraph'}, 'id': 'e2124b0f-76a2-40ae-8b1b-c258537b473f', 'type': 'tool_call'}], usage_metadata={'input_tokens': 988, 'output_tokens': 23, 'total_tokens': 1011})]}),), interrupts=())"
      ]
     },
     "execution_count": 21,
     "metadata": {},
     "output_type": "execute_result"
    }
   ],
   "source": [
    "start_state = list(graph.get_state_history(config))[-2]\n",
    "start_state"
   ]
  },
  {
   "cell_type": "code",
   "execution_count": 22,
   "id": "28d37d85",
   "metadata": {},
   "outputs": [],
   "source": [
    "to_replay = start_state"
   ]
  },
  {
   "cell_type": "code",
   "execution_count": 23,
   "id": "476a9bf7",
   "metadata": {},
   "outputs": [
    {
     "name": "stdout",
     "output_type": "stream",
     "text": [
      "================================\u001b[1m Human Message \u001b[0m=================================\n",
      "\n",
      "I'm learning LangGraph. Could you do some research on it for me?\n",
      "==================================\u001b[1m Ai Message \u001b[0m==================================\n",
      "Tool Calls:\n",
      "  tavily_search (bb911ca4-00f0-4723-a884-47c036e0b155)\n",
      " Call ID: bb911ca4-00f0-4723-a884-47c036e0b155\n",
      "  Args:\n",
      "    query: LangGraph\n",
      "=================================\u001b[1m Tool Message \u001b[0m=================================\n",
      "Name: tavily_search\n",
      "\n",
      "{\"query\": \"LangGraph\", \"follow_up_questions\": null, \"answer\": null, \"images\": [], \"results\": [{\"url\": \"https://github.com/langchain-ai/langgraph\", \"title\": \"langchain-ai/langgraph: Build resilient language agents as graphs.\", \"content\": \"GitHub - langchain-ai/langgraph: Build resilient language agents as graphs. langchain-ai.github.io/langgraph/ Trusted by companies shaping the future of agents – including Klarna, Replit, Elastic, and more – LangGraph is a low-level orchestration framework for building, managing, and deploying long-running, stateful agents. Or, to learn how to build an agent workflow with a customizable architecture, long-term memory, and other complex task handling, see the LangGraph basics tutorials. LangGraph provides low-level supporting infrastructure for _any_ long-running, stateful workflow or agent. While LangGraph can be used standalone, it also integrates seamlessly with any LangChain product, giving developers a full suite of tools for building agents. *   LangGraph Platform — Deploy and scale agents effortlessly with a purpose-built deployment platform for long running, stateful workflows. langchain-ai.github.io/langgraph/\", \"score\": 0.9055316, \"raw_content\": null}, {\"url\": \"https://www.langchain.com/langgraph\", \"title\": \"LangGraph - LangChain\", \"content\": \"Design agent-driven user experiences with LangGraph Platform's APIs. Quickly deploy and scale your application with infrastructure built for agents. LangGraph sets the foundation for how we can build and scale AI workloads — from conversational agents, complex task automation, to custom LLM-backed experiences that 'just work'. The next chapter in building complex production-ready features with LLMs is agentic, and with LangGraph and LangSmith, LangChain delivers an out-of-the-box solution to iterate quickly, debug immediately, and scale effortlessly.” LangGraph sets the foundation for how we can build and scale AI workloads — from conversational agents, complex task automation, to custom LLM-backed experiences that 'just work'. LangGraph Platform is a service for deploying and scaling LangGraph applications, with an opinionated API for building agent UXs, plus an integrated developer studio.\", \"score\": 0.81595254, \"raw_content\": null}], \"response_time\": 1.52}\n",
      "==================================\u001b[1m Ai Message \u001b[0m==================================\n",
      "\n",
      "LangGraph is a framework designed to build resilient language agents as graphs. It provides low-level infrastructure for managing and deploying long-running, stateful workflows or agents. LangGraph can be used standalone but also integrates seamlessly with any LangChain product.\n",
      "\n",
      "Here are some key points about LangGraph:\n",
      "- **Purpose**: To deploy and scale agents effortlessly using a purpose-built deployment platform.\n",
      "- **Features**: Offers APIs to design agent-driven user experiences and an integrated developer studio for building agent UXs.\n",
      "- **Integration**: Works well with other LangChain products, providing developers with a full suite of tools.\n",
      "\n",
      "You can find more detailed information on the [LangGraph GitHub page](https://github.com/langchain-ai/langgraph) or visit their official website at [langchain.com/langgraph](https://www.langchain.com/langgraph).\n"
     ]
    }
   ],
   "source": [
    "# The `checkpoint_id` in the `to_replay.config` corresponds to a state we've persisted to our checkpointer.\n",
    "for event in graph.stream(None, to_replay.config, stream_mode=\"values\"):\n",
    "    if \"messages\" in event:\n",
    "        event[\"messages\"][-1].pretty_print()"
   ]
  },
  {
   "cell_type": "code",
   "execution_count": 24,
   "id": "a8431cc7",
   "metadata": {},
   "outputs": [
    {
     "name": "stdout",
     "output_type": "stream",
     "text": [
      "Num Messages:  4 Next:  ()\n",
      "--------------------------------------------------------------------------------\n",
      "Num Messages:  3 Next:  ('chatbot',)\n",
      "--------------------------------------------------------------------------------\n",
      "Num Messages:  2 Next:  ('tools',)\n",
      "--------------------------------------------------------------------------------\n",
      "Num Messages:  6 Next:  ()\n",
      "--------------------------------------------------------------------------------\n",
      "Num Messages:  5 Next:  ('chatbot',)\n",
      "--------------------------------------------------------------------------------\n",
      "Num Messages:  4 Next:  ('__start__',)\n",
      "--------------------------------------------------------------------------------\n",
      "Num Messages:  4 Next:  ()\n",
      "--------------------------------------------------------------------------------\n",
      "Num Messages:  3 Next:  ('chatbot',)\n",
      "--------------------------------------------------------------------------------\n",
      "Num Messages:  2 Next:  ('tools',)\n",
      "--------------------------------------------------------------------------------\n",
      "Num Messages:  1 Next:  ('chatbot',)\n",
      "--------------------------------------------------------------------------------\n",
      "Num Messages:  0 Next:  ('__start__',)\n",
      "--------------------------------------------------------------------------------\n"
     ]
    }
   ],
   "source": [
    "for state in graph.get_state_history(config):\n",
    "    print(\"Num Messages: \", len(state.values[\"messages\"]), \"Next: \", state.next)\n",
    "    print(\"-\" * 80)"
   ]
  },
  {
   "cell_type": "code",
   "execution_count": 32,
   "id": "babcfb11",
   "metadata": {},
   "outputs": [],
   "source": [
    "message_list = graph.get_state(config).values[\"messages\"]"
   ]
  },
  {
   "cell_type": "code",
   "execution_count": 35,
   "id": "f9f7ed2c",
   "metadata": {},
   "outputs": [
    {
     "name": "stdout",
     "output_type": "stream",
     "text": [
      "================================\u001b[1m Human Message \u001b[0m=================================\n",
      "\n",
      "I'm learning LangGraph. Could you do some research on it for me?\n",
      "==================================\u001b[1m Ai Message \u001b[0m==================================\n",
      "Tool Calls:\n",
      "  tavily_search (bb911ca4-00f0-4723-a884-47c036e0b155)\n",
      " Call ID: bb911ca4-00f0-4723-a884-47c036e0b155\n",
      "  Args:\n",
      "    query: LangGraph\n",
      "=================================\u001b[1m Tool Message \u001b[0m=================================\n",
      "Name: tavily_search\n",
      "\n",
      "{\"query\": \"LangGraph\", \"follow_up_questions\": null, \"answer\": null, \"images\": [], \"results\": [{\"url\": \"https://github.com/langchain-ai/langgraph\", \"title\": \"langchain-ai/langgraph: Build resilient language agents as graphs.\", \"content\": \"GitHub - langchain-ai/langgraph: Build resilient language agents as graphs. langchain-ai.github.io/langgraph/ Trusted by companies shaping the future of agents – including Klarna, Replit, Elastic, and more – LangGraph is a low-level orchestration framework for building, managing, and deploying long-running, stateful agents. Or, to learn how to build an agent workflow with a customizable architecture, long-term memory, and other complex task handling, see the LangGraph basics tutorials. LangGraph provides low-level supporting infrastructure for _any_ long-running, stateful workflow or agent. While LangGraph can be used standalone, it also integrates seamlessly with any LangChain product, giving developers a full suite of tools for building agents. *   LangGraph Platform — Deploy and scale agents effortlessly with a purpose-built deployment platform for long running, stateful workflows. langchain-ai.github.io/langgraph/\", \"score\": 0.9055316, \"raw_content\": null}, {\"url\": \"https://www.langchain.com/langgraph\", \"title\": \"LangGraph - LangChain\", \"content\": \"Design agent-driven user experiences with LangGraph Platform's APIs. Quickly deploy and scale your application with infrastructure built for agents. LangGraph sets the foundation for how we can build and scale AI workloads — from conversational agents, complex task automation, to custom LLM-backed experiences that 'just work'. The next chapter in building complex production-ready features with LLMs is agentic, and with LangGraph and LangSmith, LangChain delivers an out-of-the-box solution to iterate quickly, debug immediately, and scale effortlessly.” LangGraph sets the foundation for how we can build and scale AI workloads — from conversational agents, complex task automation, to custom LLM-backed experiences that 'just work'. LangGraph Platform is a service for deploying and scaling LangGraph applications, with an opinionated API for building agent UXs, plus an integrated developer studio.\", \"score\": 0.81595254, \"raw_content\": null}], \"response_time\": 1.52}\n",
      "==================================\u001b[1m Ai Message \u001b[0m==================================\n",
      "\n",
      "LangGraph is a framework designed to build resilient language agents as graphs. It provides low-level infrastructure for managing and deploying long-running, stateful workflows or agents. LangGraph can be used standalone but also integrates seamlessly with any LangChain product.\n",
      "\n",
      "Here are some key points about LangGraph:\n",
      "- **Purpose**: To deploy and scale agents effortlessly using a purpose-built deployment platform.\n",
      "- **Features**: Offers APIs to design agent-driven user experiences and an integrated developer studio for building agent UXs.\n",
      "- **Integration**: Works well with other LangChain products, providing developers with a full suite of tools.\n",
      "\n",
      "You can find more detailed information on the [LangGraph GitHub page](https://github.com/langchain-ai/langgraph) or visit their official website at [langchain.com/langgraph](https://www.langchain.com/langgraph).\n"
     ]
    }
   ],
   "source": [
    "for message in message_list:\n",
    "    message.pretty_print()"
   ]
  }
 ],
 "metadata": {
  "kernelspec": {
   "display_name": ".venv",
   "language": "python",
   "name": "python3"
  },
  "language_info": {
   "codemirror_mode": {
    "name": "ipython",
    "version": 3
   },
   "file_extension": ".py",
   "mimetype": "text/x-python",
   "name": "python",
   "nbconvert_exporter": "python",
   "pygments_lexer": "ipython3",
   "version": "3.12.0"
  }
 },
 "nbformat": 4,
 "nbformat_minor": 5
}
