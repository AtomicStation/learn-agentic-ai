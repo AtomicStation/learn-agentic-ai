{
 "cells": [
  {
   "cell_type": "markdown",
   "id": "e497f9bd",
   "metadata": {},
   "source": [
    "# LangChain 101\n",
    "I'm going to slowly build up my runnables to be a chain, to perform basic RAG functionality.\n",
    "\n",
    "Stack:\n",
    "- LLM: Ollama (llama3.1)\n",
    "- Vector Store: Chroma\n",
    "- UI: Streamlit\n",
    "- Memory: SQLite\n",
    "- Embeddings: BGE or all-MiniLM-L6-v2"
   ]
  },
  {
   "cell_type": "markdown",
   "id": "138e2d67",
   "metadata": {},
   "source": [
    "Enable LangSmith tracing by setting up the `.env` file."
   ]
  },
  {
   "cell_type": "code",
   "execution_count": 1,
   "id": "3c312f98",
   "metadata": {},
   "outputs": [
    {
     "data": {
      "text/plain": [
       "False"
      ]
     },
     "execution_count": 1,
     "metadata": {},
     "output_type": "execute_result"
    }
   ],
   "source": [
    "from dotenv import load_dotenv\n",
    "load_dotenv(\"../.env\", override=True)"
   ]
  },
  {
   "cell_type": "markdown",
   "id": "4eed3331",
   "metadata": {},
   "source": [
    "## LLM response"
   ]
  },
  {
   "cell_type": "code",
   "execution_count": 1,
   "id": "09ef22c1",
   "metadata": {},
   "outputs": [],
   "source": [
    "from langchain_ollama import ChatOllama\n",
    "llm = ChatOllama(model=\"llama3.1\", temperature=0)"
   ]
  },
  {
   "cell_type": "code",
   "execution_count": 2,
   "id": "44b01bde",
   "metadata": {},
   "outputs": [],
   "source": [
    "result = llm.invoke(\"What is LangChain?\")"
   ]
  },
  {
   "cell_type": "code",
   "execution_count": 6,
   "id": "e6649694",
   "metadata": {},
   "outputs": [
    {
     "data": {
      "text/html": [
       "<pre style=\"white-space:pre;overflow-x:auto;line-height:normal;font-family:Menlo,'DejaVu Sans Mono',consolas,'Courier New',monospace\">LangChain is an open-source framework for building conversational AI applications. It's designed to make it easier \n",
       "to create and integrate large language models (LLMs) into various use cases, such as chatbots, virtual assistants, \n",
       "and more.                                                                                                          \n",
       "\n",
       "LangChain provides a set of tools and libraries that enable developers to:                                         \n",
       "\n",
       "<span style=\"color: #808000; text-decoration-color: #808000; font-weight: bold\"> 1 </span><span style=\"font-weight: bold\">Load and manage LLMs</span>: LangChain supports popular LLMs like BERT, RoBERTa, and others, making it easy to         \n",
       "<span style=\"color: #808000; text-decoration-color: #808000; font-weight: bold\">   </span>integrate them into applications.                                                                               \n",
       "<span style=\"color: #808000; text-decoration-color: #808000; font-weight: bold\"> 2 </span><span style=\"font-weight: bold\">Create conversational flows</span>: Developers can define conversational workflows using a simple, declarative syntax, \n",
       "<span style=\"color: #808000; text-decoration-color: #808000; font-weight: bold\">   </span>which allows for more flexibility and ease of use.                                                              \n",
       "<span style=\"color: #808000; text-decoration-color: #808000; font-weight: bold\"> 3 </span><span style=\"font-weight: bold\">Integrate with external data sources</span>: LangChain enables seamless integration with various data sources, such as \n",
       "<span style=\"color: #808000; text-decoration-color: #808000; font-weight: bold\">   </span>databases, APIs, or even other AI models.                                                                       \n",
       "<span style=\"color: #808000; text-decoration-color: #808000; font-weight: bold\"> 4 </span><span style=\"font-weight: bold\">Manage context and state</span>: The framework provides features to manage conversation context and state, ensuring    \n",
       "<span style=\"color: #808000; text-decoration-color: #808000; font-weight: bold\">   </span>that the conversational flow is consistent and accurate.                                                        \n",
       "\n",
       "Some of the key benefits of using LangChain include:                                                               \n",
       "\n",
       "<span style=\"color: #808000; text-decoration-color: #808000; font-weight: bold\"> • </span><span style=\"font-weight: bold\">Simplified development process</span>: LangChain abstracts away many complexities associated with building             \n",
       "<span style=\"color: #808000; text-decoration-color: #808000; font-weight: bold\">   </span>conversational AI applications, making it easier for developers to focus on the application logic.              \n",
       "<span style=\"color: #808000; text-decoration-color: #808000; font-weight: bold\"> • </span><span style=\"font-weight: bold\">Improved scalability</span>: The framework is designed to handle large volumes of conversations and data, making it    \n",
       "<span style=\"color: #808000; text-decoration-color: #808000; font-weight: bold\">   </span>suitable for production environments.                                                                           \n",
       "<span style=\"color: #808000; text-decoration-color: #808000; font-weight: bold\"> • </span><span style=\"font-weight: bold\">Flexibility and customizability</span>: LangChain's modular architecture allows developers to easily integrate new     \n",
       "<span style=\"color: #808000; text-decoration-color: #808000; font-weight: bold\">   </span>features or models as needed.                                                                                   \n",
       "\n",
       "LangChain has gained popularity in recent times due to its ease of use, flexibility, and the ability to support a  \n",
       "wide range of LLMs. If you're interested in building conversational AI applications, LangChain is definitely worth \n",
       "exploring!                                                                                                         \n",
       "</pre>\n"
      ],
      "text/plain": [
       "LangChain is an open-source framework for building conversational AI applications. It's designed to make it easier \n",
       "to create and integrate large language models (LLMs) into various use cases, such as chatbots, virtual assistants, \n",
       "and more.                                                                                                          \n",
       "\n",
       "LangChain provides a set of tools and libraries that enable developers to:                                         \n",
       "\n",
       "\u001b[1;33m 1 \u001b[0m\u001b[1mLoad and manage LLMs\u001b[0m: LangChain supports popular LLMs like BERT, RoBERTa, and others, making it easy to         \n",
       "\u001b[1;33m   \u001b[0mintegrate them into applications.                                                                               \n",
       "\u001b[1;33m 2 \u001b[0m\u001b[1mCreate conversational flows\u001b[0m: Developers can define conversational workflows using a simple, declarative syntax, \n",
       "\u001b[1;33m   \u001b[0mwhich allows for more flexibility and ease of use.                                                              \n",
       "\u001b[1;33m 3 \u001b[0m\u001b[1mIntegrate with external data sources\u001b[0m: LangChain enables seamless integration with various data sources, such as \n",
       "\u001b[1;33m   \u001b[0mdatabases, APIs, or even other AI models.                                                                       \n",
       "\u001b[1;33m 4 \u001b[0m\u001b[1mManage context and state\u001b[0m: The framework provides features to manage conversation context and state, ensuring    \n",
       "\u001b[1;33m   \u001b[0mthat the conversational flow is consistent and accurate.                                                        \n",
       "\n",
       "Some of the key benefits of using LangChain include:                                                               \n",
       "\n",
       "\u001b[1;33m • \u001b[0m\u001b[1mSimplified development process\u001b[0m: LangChain abstracts away many complexities associated with building             \n",
       "\u001b[1;33m   \u001b[0mconversational AI applications, making it easier for developers to focus on the application logic.              \n",
       "\u001b[1;33m • \u001b[0m\u001b[1mImproved scalability\u001b[0m: The framework is designed to handle large volumes of conversations and data, making it    \n",
       "\u001b[1;33m   \u001b[0msuitable for production environments.                                                                           \n",
       "\u001b[1;33m • \u001b[0m\u001b[1mFlexibility and customizability\u001b[0m: LangChain's modular architecture allows developers to easily integrate new     \n",
       "\u001b[1;33m   \u001b[0mfeatures or models as needed.                                                                                   \n",
       "\n",
       "LangChain has gained popularity in recent times due to its ease of use, flexibility, and the ability to support a  \n",
       "wide range of LLMs. If you're interested in building conversational AI applications, LangChain is definitely worth \n",
       "exploring!                                                                                                         \n"
      ]
     },
     "execution_count": 6,
     "metadata": {},
     "output_type": "execute_result"
    }
   ],
   "source": [
    "from rich.markdown import Markdown\n",
    "Markdown(result.content)"
   ]
  },
  {
   "cell_type": "markdown",
   "id": "ebd16a0f",
   "metadata": {},
   "source": [
    "## SQLite"
   ]
  },
  {
   "cell_type": "markdown",
   "id": "340679f1",
   "metadata": {},
   "source": [
    "## Chroma"
   ]
  }
 ],
 "metadata": {
  "kernelspec": {
   "display_name": ".venv",
   "language": "python",
   "name": "python3"
  },
  "language_info": {
   "codemirror_mode": {
    "name": "ipython",
    "version": 3
   },
   "file_extension": ".py",
   "mimetype": "text/x-python",
   "name": "python",
   "nbconvert_exporter": "python",
   "pygments_lexer": "ipython3",
   "version": "3.12.0"
  }
 },
 "nbformat": 4,
 "nbformat_minor": 5
}
